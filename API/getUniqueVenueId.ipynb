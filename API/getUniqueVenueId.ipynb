{
 "cells": [
  {
   "cell_type": "code",
   "execution_count": 26,
   "metadata": {
    "collapsed": false
   },
   "outputs": [],
   "source": [
    "import os.path\n",
    "# Take London as a test first\n",
    "londonInstagram = os.path.abspath(os.path.join('', os.pardir))+'/FourCityDataset/instagram/london.txt'\n",
    "londonTwitter = os.path.abspath(os.path.join('', os.pardir))+'/FourCityDataset/twitter/london.txt'\n"
   ]
  },
  {
   "cell_type": "code",
   "execution_count": 53,
   "metadata": {
    "collapsed": false
   },
   "outputs": [
    {
     "name": "stdout",
     "output_type": "stream",
     "text": [
      "110922\n",
      "15740\n"
     ]
    }
   ],
   "source": [
    "f = open(londonInstagram)\n",
    "next = f.readline()\n",
    "id=[]\n",
    "while next != \"\":\n",
    "    temp=next.split(' ')[1]\n",
    "    if not temp.endswith('_home'):\n",
    "        id.append(temp)\n",
    "    next = f.readline()\n",
    "\n",
    "f = open(londonTwitter)\n",
    "next = f.readline()\n",
    "while next != \"\":\n",
    "    temp=next.split(' ')[1]\n",
    "    if not temp.endswith('_home'):\n",
    "        id.append(temp)\n",
    "    next = f.readline()\n",
    "\n",
    "\n",
    "print(len(id))\n",
    "# Remove duplicate venue ids\n",
    "id=list(set(id))\n",
    "print(len(id))\n",
    "id.sort()\n"
   ]
  },
  {
   "cell_type": "code",
   "execution_count": 54,
   "metadata": {
    "collapsed": false
   },
   "outputs": [],
   "source": [
    "import csv\n",
    "csvfile = \"LondonVenueId.csv\"\n",
    "\n",
    "with open(csvfile, \"w\") as output:\n",
    "    writer = csv.writer(output, lineterminator='\\n')\n",
    "    for val in id:\n",
    "        writer.writerow([val]) "
   ]
  }
 ],
 "metadata": {
  "kernelspec": {
   "display_name": "Python 3",
   "language": "python",
   "name": "python3"
  },
  "language_info": {
   "codemirror_mode": {
    "name": "ipython",
    "version": 3
   },
   "file_extension": ".py",
   "mimetype": "text/x-python",
   "name": "python",
   "nbconvert_exporter": "python",
   "pygments_lexer": "ipython3",
   "version": "3.5.1"
  }
 },
 "nbformat": 4,
 "nbformat_minor": 2
}
