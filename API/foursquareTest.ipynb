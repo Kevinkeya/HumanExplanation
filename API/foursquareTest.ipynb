{
 "cells": [
  {
   "cell_type": "code",
   "execution_count": 47,
   "metadata": {
    "collapsed": true
   },
   "outputs": [],
   "source": [
    "import foursquare\n",
    "import json\n",
    "import numpy as np"
   ]
  },
  {
   "cell_type": "code",
   "execution_count": 26,
   "metadata": {
    "collapsed": false
   },
   "outputs": [
    {
     "name": "stdout",
     "output_type": "stream",
     "text": [
      "https://foursquare.com/oauth2/authenticate?response_type=code&redirect_uri=http%3A%2F%2F127.0.0.1%3A3000%2Fauth%2Freturn&client_id=IJYVCGPO54FX5DO51140MQMTB1C3XOSCH30XPB4OZQT3HWYH\n"
     ]
    }
   ],
   "source": [
    "\n",
    "# Remove key here\n",
    "client = foursquare.Foursquare(client_id=' ', \n",
    "                               client_secret=' ', redirect_uri='http://127.0.0.1:3000/auth/return')\n",
    "# Build the authorization url for your app\n",
    "auth_uri = client.oauth.auth_url()\n",
    "print(auth_uri)"
   ]
  },
  {
   "cell_type": "code",
   "execution_count": 29,
   "metadata": {
    "collapsed": false
   },
   "outputs": [
    {
     "name": "stdout",
     "output_type": "stream",
     "text": [
      "access_token:AEATRPWFMCOX3FVHQTJEXZVNP5VBOTN2YPS4BIFKQS1WHYOE\n"
     ]
    }
   ],
   "source": [
    "# Only run the following codes for 1 time. And \n",
    "# Interrogate foursquare's servers to get the user's access_token\n",
    "# access_token = client.oauth.get_token('U4VMSCHLWS5EMPPBIOU45C4JYKLFUOPH5ZL1PZ5SWBN2MX5Q')\n",
    "\n",
    "# Apply the returned access token to the client\n",
    "# client.set_access_token(access_token)\n",
    "\n",
    "client.set_access_token(' ')\n",
    "# Get the user's data\n",
    "user = client.users()\n",
    "\n",
    "print ('access_token:'+ access_token)\n"
   ]
  },
  {
   "cell_type": "code",
   "execution_count": 43,
   "metadata": {
    "collapsed": false
   },
   "outputs": [],
   "source": [
    "user = client.users('1183247')\n",
    "user = json.dumps(user, indent=4, separators=(',',': '))\n",
    "# print (user)"
   ]
  },
  {
   "cell_type": "code",
   "execution_count": 56,
   "metadata": {
    "collapsed": false,
    "scrolled": true
   },
   "outputs": [
    {
     "name": "stdout",
     "output_type": "stream",
     "text": [
      "<class 'dict'>\n"
     ]
    }
   ],
   "source": [
    "s=client.venues('40a55d80f964a52020f31ee3')\n",
    "# s=client.venues('223892373_home')\n",
    "print(type(s))\n",
    "\n",
    "with open('data.json', 'w') as f:\n",
    "    json.dump(s, f,indent=4)\n",
    "\n"
   ]
  }
 ],
 "metadata": {
  "kernelspec": {
   "display_name": "Python 3",
   "language": "python",
   "name": "python3"
  },
  "language_info": {
   "codemirror_mode": {
    "name": "ipython",
    "version": 3
   },
   "file_extension": ".py",
   "mimetype": "text/x-python",
   "name": "python",
   "nbconvert_exporter": "python",
   "pygments_lexer": "ipython3",
   "version": "3.5.1"
  }
 },
 "nbformat": 4,
 "nbformat_minor": 2
}
